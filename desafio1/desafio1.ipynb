{
 "cells": [
  {
   "cell_type": "code",
   "execution_count": null,
   "id": "cfd9ed7e",
   "metadata": {},
   "outputs": [],
   "source": [
    "import pandas as pd\n",
    "from sklearn.decomposition import PCA\n",
    "from sklearn.model_selection import StratifiedKFold, train_test_split\n",
    "from sklearn.neighbors import KNeighborsClassifier\n",
    "from sklearn.pipeline import Pipeline\n",
    "from sklearn.model_selection import GridSearchCV\n",
    "\n",
    "SEED = 42"
   ]
  },
  {
   "cell_type": "code",
   "execution_count": null,
   "id": "9aea8faa",
   "metadata": {},
   "outputs": [],
   "source": [
    "test_df = pd.read_csv(\"data/test.csv\", index_col=[0])\n",
    "train_df = pd.read_csv(\"data/train.csv\", index_col=[0])"
   ]
  },
  {
   "cell_type": "code",
   "execution_count": null,
   "id": "f12cc313",
   "metadata": {},
   "outputs": [],
   "source": [
    "test_df.value_counts()\n",
    "\n",
    "X = train_df.drop(columns=[\"class\"])\n",
    "y = train_df[\"class\"]"
   ]
  },
  {
   "cell_type": "code",
   "execution_count": null,
   "id": "7c11ebcf",
   "metadata": {},
   "outputs": [],
   "source": [
    "# removes outliers with the iqr method\n",
    "# by measuring the spread of the middle 50%\n",
    "# removes anything that is out from that spread\n",
    "# good since knn is sensitive to outliers\n",
    "Q1 = X.quantile(0.25)\n",
    "Q3 = X.quantile(0.75)\n",
    "IQR = Q3 - Q1\n",
    "non_outliers = ~((X < (Q1 - 1.5 * IQR)) | (X > (Q3 + 1.5 * IQR))).any(axis=1)\n",
    "X = X[non_outliers]\n",
    "y = y[X.index]"
   ]
  },
  {
   "cell_type": "code",
   "execution_count": null,
   "id": "a493d898",
   "metadata": {},
   "outputs": [],
   "source": [
    "\n",
    "# PCA (retain 95% variance)\n",
    "# this transforms features into new uncorrelated ones\n",
    "# helps whith the problem of maldicao da dimensionalidade which can be a thing for knn\n",
    "pca = PCA(n_components=0.95)\n",
    "X_pca = pca.fit_transform(X)\n",
    "\n",
    "# split the dataset\n",
    "X_train, X_test, y_train, y_test = train_test_split(\n",
    "    X_pca, y, test_size=0.2, random_state=SEED\n",
    ")"
   ]
  },
  {
   "cell_type": "code",
   "execution_count": null,
   "id": "b872ba39",
   "metadata": {},
   "outputs": [],
   "source": [
    "classifier = KNeighborsClassifier()\n",
    "pipeline = Pipeline([(\"classifier\", classifier)])\n",
    "\n",
    "param_grid = {\"classifier__n_neighbors\": [3, 5, 7, 9]}\n",
    "\n",
    "# divides the folds so there is an equal distribution of classes\n",
    "# stratified k fold\n",
    "# this is important since knn is sensitive to class imbalance\n",
    "skf = StratifiedKFold(n_splits=10)\n",
    "knn_grid = GridSearchCV(pipeline, param_grid, scoring=\"f1_weighted\", cv=skf, n_jobs=-1)\n",
    "knn_grid.fit(X_train, y_train)"
   ]
  },
  {
   "cell_type": "code",
   "execution_count": null,
   "id": "f892c2e3",
   "metadata": {},
   "outputs": [],
   "source": [
    "# predict\n",
    "test_df_pca = pca.transform(test_df)\n",
    "final_predictions = knn_grid.predict(test_df_pca)"
   ]
  },
  {
   "cell_type": "code",
   "execution_count": null,
   "id": "15b90af1",
   "metadata": {},
   "outputs": [],
   "source": [
    "def create_submission_file(\n",
    "    predictions, test_df, submission_file_name=\"submission.csv\"\n",
    "):\n",
    "    submission_df = pd.DataFrame({\"id\": test_df.index, \"Target\": predictions})\n",
    "    submission_df.to_csv(submission_file_name, index=False)\n",
    "    print(f\"Submission file '{submission_file_name}' created successfully.\")\n",
    "\n",
    "\n",
    "create_submission_file(final_predictions, test_df)"
   ]
  }
 ],
 "metadata": {
  "jupytext": {
   "cell_metadata_filter": "-all",
   "main_language": "python",
   "notebook_metadata_filter": "-all"
  },
  "language_info": {
   "name": "python"
  }
 },
 "nbformat": 4,
 "nbformat_minor": 5
}
